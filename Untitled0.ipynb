{
  "nbformat": 4,
  "nbformat_minor": 0,
  "metadata": {
    "colab": {
      "provenance": [],
      "authorship_tag": "ABX9TyOoTsFJASohZyZs2WWiCGpJ",
      "include_colab_link": true
    },
    "kernelspec": {
      "name": "python3",
      "display_name": "Python 3"
    },
    "language_info": {
      "name": "python"
    }
  },
  "cells": [
    {
      "cell_type": "markdown",
      "metadata": {
        "id": "view-in-github",
        "colab_type": "text"
      },
      "source": [
        "<a href=\"https://colab.research.google.com/github/melichaan/melissa-pruebas/blob/main/Untitled0.ipynb\" target=\"_parent\"><img src=\"https://colab.research.google.com/assets/colab-badge.svg\" alt=\"Open In Colab\"/></a>"
      ]
    },
    {
      "cell_type": "code",
      "execution_count": 1,
      "metadata": {
        "id": "_p62N2bOXzcu"
      },
      "outputs": [],
      "source": [
        "a = 4"
      ]
    },
    {
      "cell_type": "code",
      "source": [
        "a"
      ],
      "metadata": {
        "colab": {
          "base_uri": "https://localhost:8080/"
        },
        "id": "nz1etMrbYHWd",
        "outputId": "c6abf924-19e8-4368-a524-1c690d9321f4"
      },
      "execution_count": 2,
      "outputs": [
        {
          "output_type": "execute_result",
          "data": {
            "text/plain": [
              "4"
            ]
          },
          "metadata": {},
          "execution_count": 2
        }
      ]
    },
    {
      "cell_type": "code",
      "source": [
        "b=5/2"
      ],
      "metadata": {
        "id": "KjX2z3sHYTVb"
      },
      "execution_count": 3,
      "outputs": []
    },
    {
      "cell_type": "code",
      "source": [
        "b"
      ],
      "metadata": {
        "colab": {
          "base_uri": "https://localhost:8080/"
        },
        "id": "enK88oxtY0-_",
        "outputId": "31db8d36-8b99-47e2-e0d5-c511ee6ad7dc"
      },
      "execution_count": 4,
      "outputs": [
        {
          "output_type": "execute_result",
          "data": {
            "text/plain": [
              "2.5"
            ]
          },
          "metadata": {},
          "execution_count": 4
        }
      ]
    },
    {
      "cell_type": "code",
      "source": [
        "a+b"
      ],
      "metadata": {
        "colab": {
          "base_uri": "https://localhost:8080/"
        },
        "id": "evyf5vpkY9PK",
        "outputId": "1b6cf5b1-92c6-4e91-e7c1-04cbdf1a85cf"
      },
      "execution_count": 5,
      "outputs": [
        {
          "output_type": "execute_result",
          "data": {
            "text/plain": [
              "6.5"
            ]
          },
          "metadata": {},
          "execution_count": 5
        }
      ]
    },
    {
      "cell_type": "code",
      "source": [
        "e=\"Cruel\""
      ],
      "metadata": {
        "id": "NEbOzEEQZSc7"
      },
      "execution_count": 21,
      "outputs": []
    },
    {
      "cell_type": "code",
      "source": [
        "c=\"hola\""
      ],
      "metadata": {
        "id": "8jDps14ZZh8D"
      },
      "execution_count": 8,
      "outputs": []
    },
    {
      "cell_type": "code",
      "source": [
        "d=\"Mundo\""
      ],
      "metadata": {
        "id": "gVGyrz5waCyB"
      },
      "execution_count": 17,
      "outputs": []
    },
    {
      "cell_type": "code",
      "source": [
        "c + d + e"
      ],
      "metadata": {
        "colab": {
          "base_uri": "https://localhost:8080/",
          "height": 35
        },
        "id": "UMFb_NjwaJHx",
        "outputId": "0b5f71f8-35fe-4d35-ffe9-95aa88043d8d"
      },
      "execution_count": 20,
      "outputs": [
        {
          "output_type": "execute_result",
          "data": {
            "text/plain": [
              "'holaMundocruel'"
            ],
            "application/vnd.google.colaboratory.intrinsic+json": {
              "type": "string"
            }
          },
          "metadata": {},
          "execution_count": 20
        }
      ]
    },
    {
      "cell_type": "code",
      "source": [
        "nombre= \"Melissa\"\n",
        "print(\"mi nombre es \"+nombre)"
      ],
      "metadata": {
        "colab": {
          "base_uri": "https://localhost:8080/"
        },
        "id": "c9I_3rTzbum2",
        "outputId": "9942b5e6-e6f5-4147-e635-06394ef2dfab"
      },
      "execution_count": 26,
      "outputs": [
        {
          "output_type": "stream",
          "name": "stdout",
          "text": [
            "mi nombre es Melissa\n"
          ]
        }
      ]
    },
    {
      "cell_type": "code",
      "source": [
        "apellido= \"Galindo\"\n",
        "print(\"mi apellido es \"+apellido)"
      ],
      "metadata": {
        "colab": {
          "base_uri": "https://localhost:8080/"
        },
        "id": "LEtgN-O7dDrd",
        "outputId": "36e728b2-a02d-458d-c660-3fd0b203019b"
      },
      "execution_count": 27,
      "outputs": [
        {
          "output_type": "stream",
          "name": "stdout",
          "text": [
            "mi apellido es Galindo\n"
          ]
        }
      ]
    },
    {
      "cell_type": "code",
      "source": [
        "aspecto= \"hermosa\"\n",
        "print(\"mi aspecto es \"+aspecto)"
      ],
      "metadata": {
        "colab": {
          "base_uri": "https://localhost:8080/"
        },
        "id": "-_zv_PLFduPk",
        "outputId": "ea2ace0e-432b-477c-8745-baf1457bc69d"
      },
      "execution_count": 29,
      "outputs": [
        {
          "output_type": "stream",
          "name": "stdout",
          "text": [
            "mi aspecto es hermosa\n"
          ]
        }
      ]
    },
    {
      "cell_type": "code",
      "source": [
        "actitud= \"decidida\"\n",
        "print(\"mi actitud es \"+actitud)"
      ],
      "metadata": {
        "colab": {
          "base_uri": "https://localhost:8080/"
        },
        "id": "wAoyYBfbeKBI",
        "outputId": "d01e3648-ce7b-466f-a20f-bb8fedf5ff7f"
      },
      "execution_count": 30,
      "outputs": [
        {
          "output_type": "stream",
          "name": "stdout",
          "text": [
            "mi actitud es decidida\n"
          ]
        }
      ]
    },
    {
      "cell_type": "code",
      "source": [
        "nombre + apellido"
      ],
      "metadata": {
        "colab": {
          "base_uri": "https://localhost:8080/",
          "height": 35
        },
        "id": "DpD2-I9VetgX",
        "outputId": "04fe85d4-e99d-4356-da61-a73f40c9df5a"
      },
      "execution_count": 31,
      "outputs": [
        {
          "output_type": "execute_result",
          "data": {
            "text/plain": [
              "'MelissaGalindo'"
            ],
            "application/vnd.google.colaboratory.intrinsic+json": {
              "type": "string"
            }
          },
          "metadata": {},
          "execution_count": 31
        }
      ]
    },
    {
      "cell_type": "code",
      "source": [
        "lista_super= [\"pan\", \"azucar\" , \"huevos\" , \"fideos\" , \"arroz\", \"aceite\" , \"te\"]\n",
        "print (lista_super)"
      ],
      "metadata": {
        "colab": {
          "base_uri": "https://localhost:8080/"
        },
        "id": "5ub_SpoTfHCI",
        "outputId": "82db7efe-aa48-4c4f-eb6c-ec0f46483d33"
      },
      "execution_count": 32,
      "outputs": [
        {
          "output_type": "stream",
          "name": "stdout",
          "text": [
            "['pan', 'azucar', 'huevos', 'fideos', 'arroz', 'aceite', 'te']\n"
          ]
        }
      ]
    },
    {
      "cell_type": "code",
      "source": [
        "print (lista_super)"
      ],
      "metadata": {
        "colab": {
          "base_uri": "https://localhost:8080/"
        },
        "id": "_Dr6HBLqgMsO",
        "outputId": "9788cf26-eb05-4064-fa9c-792788cac687"
      },
      "execution_count": 33,
      "outputs": [
        {
          "output_type": "stream",
          "name": "stdout",
          "text": [
            "['pan', 'azucar', 'huevos', 'fideos', 'arroz', 'aceite', 'te']\n"
          ]
        }
      ]
    },
    {
      "cell_type": "code",
      "source": [
        "type (lista_super)"
      ],
      "metadata": {
        "colab": {
          "base_uri": "https://localhost:8080/"
        },
        "id": "5Tga2HiahcOT",
        "outputId": "de2374d6-4b79-4e08-9b49-f03e001709f3"
      },
      "execution_count": 34,
      "outputs": [
        {
          "output_type": "execute_result",
          "data": {
            "text/plain": [
              "list"
            ]
          },
          "metadata": {},
          "execution_count": 34
        }
      ]
    },
    {
      "cell_type": "code",
      "source": [
        "type (b)"
      ],
      "metadata": {
        "colab": {
          "base_uri": "https://localhost:8080/"
        },
        "id": "waAqMVlvhkmR",
        "outputId": "008a5be9-8686-441b-85bb-8490306c314b"
      },
      "execution_count": 35,
      "outputs": [
        {
          "output_type": "execute_result",
          "data": {
            "text/plain": [
              "float"
            ]
          },
          "metadata": {},
          "execution_count": 35
        }
      ]
    },
    {
      "cell_type": "code",
      "source": [
        "lista_super[3]"
      ],
      "metadata": {
        "colab": {
          "base_uri": "https://localhost:8080/",
          "height": 35
        },
        "id": "wIKgHS0OhyNM",
        "outputId": "5f927aae-8662-44a7-a2d3-436b98778756"
      },
      "execution_count": 36,
      "outputs": [
        {
          "output_type": "execute_result",
          "data": {
            "text/plain": [
              "'fideos'"
            ],
            "application/vnd.google.colaboratory.intrinsic+json": {
              "type": "string"
            }
          },
          "metadata": {},
          "execution_count": 36
        }
      ]
    },
    {
      "cell_type": "code",
      "source": [
        "lista_super.append(\"bebida\")"
      ],
      "metadata": {
        "id": "OAhLF4FUiK7A"
      },
      "execution_count": 37,
      "outputs": []
    },
    {
      "cell_type": "code",
      "source": [
        "lista_super"
      ],
      "metadata": {
        "colab": {
          "base_uri": "https://localhost:8080/"
        },
        "id": "Q-cItmhMigyp",
        "outputId": "67e7118d-88a0-4c06-b738-00010b341a0b"
      },
      "execution_count": 38,
      "outputs": [
        {
          "output_type": "execute_result",
          "data": {
            "text/plain": [
              "['pan', 'azucar', 'huevos', 'fideos', 'arroz', 'aceite', 'te', 'bebida']"
            ]
          },
          "metadata": {},
          "execution_count": 38
        }
      ]
    },
    {
      "cell_type": "code",
      "source": [
        "mi_texto = (\"ME GUSTA PHYTON\")"
      ],
      "metadata": {
        "id": "_zNWPmbGiwpU"
      },
      "execution_count": 40,
      "outputs": []
    },
    {
      "cell_type": "code",
      "source": [
        "mi_texto.lower()"
      ],
      "metadata": {
        "colab": {
          "base_uri": "https://localhost:8080/",
          "height": 35
        },
        "id": "6hV3fcYgjAd1",
        "outputId": "7985577f-26b0-4080-d109-6edfc48d822f"
      },
      "execution_count": 41,
      "outputs": [
        {
          "output_type": "execute_result",
          "data": {
            "text/plain": [
              "'me gusta phyton'"
            ],
            "application/vnd.google.colaboratory.intrinsic+json": {
              "type": "string"
            }
          },
          "metadata": {},
          "execution_count": 41
        }
      ]
    },
    {
      "cell_type": "code",
      "source": [],
      "metadata": {
        "id": "DYA7sXpSjZiW"
      },
      "execution_count": null,
      "outputs": []
    }
  ]
}